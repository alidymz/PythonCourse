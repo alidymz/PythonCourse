{
 "cells": [
  {
   "cell_type": "code",
   "execution_count": 31,
   "metadata": {},
   "outputs": [],
   "source": [
    "import pandas as pd\n",
    "import numpy as np\n",
    "import seaborn as sns\n",
    "from sklearn.model_selection import train_test_split\n",
    "import matplotlib.pyplot as plt\n",
    "from sklearn.ensemble import RandomForestClassifier\n",
    "from sklearn.model_selection import GridSearchCV\n",
    "from sklearn.metrics import accuracy_score\n",
    "from sklearn.decomposition import PCA # 1. Choose the model class\n",
    "from sklearn import metrics\n",
    "from sklearn.metrics import confusion_matrix"
   ]
  },
  {
   "cell_type": "code",
   "execution_count": 2,
   "metadata": {},
   "outputs": [],
   "source": [
    "url = 'https://raw.githubusercontent.com/carlson9/KocPythonFall2021/main/inclass/10ML/cses4_cut.csv'\n",
    "\n",
    "mydata = pd.read_csv(url)"
   ]
  },
  {
   "cell_type": "code",
   "execution_count": 3,
   "metadata": {},
   "outputs": [],
   "source": [
    "mydata = mydata.drop(columns=[\"Unnamed: 0\"])"
   ]
  },
  {
   "cell_type": "code",
   "execution_count": 4,
   "metadata": {},
   "outputs": [
    {
     "name": "stdout",
     "output_type": "stream",
     "text": [
      "<class 'pandas.core.frame.DataFrame'>\n",
      "RangeIndex: 12451 entries, 0 to 12450\n",
      "Data columns (total 32 columns):\n",
      "D2002    12451 non-null int64\n",
      "D2003    12451 non-null int64\n",
      "D2004    12451 non-null int64\n",
      "D2005    12451 non-null int64\n",
      "D2006    12451 non-null int64\n",
      "D2007    12451 non-null int64\n",
      "D2008    12451 non-null int64\n",
      "D2009    12451 non-null int64\n",
      "D2010    12451 non-null int64\n",
      "D2011    12451 non-null int64\n",
      "D2012    12451 non-null int64\n",
      "D2013    12451 non-null int64\n",
      "D2014    12451 non-null int64\n",
      "D2015    12451 non-null int64\n",
      "D2016    12451 non-null int64\n",
      "D2017    12451 non-null int64\n",
      "D2018    12451 non-null int64\n",
      "D2019    12451 non-null int64\n",
      "D2020    12451 non-null int64\n",
      "D2021    12451 non-null int64\n",
      "D2022    12451 non-null int64\n",
      "D2023    12451 non-null int64\n",
      "D2024    12451 non-null int64\n",
      "D2025    12451 non-null int64\n",
      "D2026    12451 non-null int64\n",
      "D2027    12451 non-null int64\n",
      "D2028    12451 non-null int64\n",
      "D2029    12451 non-null int64\n",
      "D2030    12451 non-null int64\n",
      "D2031    12451 non-null int64\n",
      "age      12451 non-null int64\n",
      "voted    12451 non-null bool\n",
      "dtypes: bool(1), int64(31)\n",
      "memory usage: 3.0 MB\n"
     ]
    }
   ],
   "source": [
    "mydata.info() #we control wheter cathegorical nominal features exist or not "
   ]
  },
  {
   "cell_type": "code",
   "execution_count": null,
   "metadata": {},
   "outputs": [],
   "source": [
    "#1. Choose a class of model by importing the appropriate estimator class from Scikit-Learn.\n",
    "#2. Choose model hyperparameters by instantiating this class with desired values.\n",
    "#3. Arrange data into a features matrix and target vector following the discussion from before.\n",
    "#4. Fit the model to your data by calling the fit() method of the model instance.\n",
    "#5. Apply the model to new data:\n",
    "#    • For supervised learning, often we predict labels for unknown data using the predict() method.\n",
    "#    • For unsupervised learning, we often transform or infer properties of the data using the transform() or predict() method."
   ]
  },
  {
   "cell_type": "markdown",
   "metadata": {},
   "source": [
    "    D2001_M      >>> D01a    DATE OF BIRTH OF RESPONDENT - MONTH\n",
    "    D2001_Y      >>> D01b    DATE OF BIRTH OF RESPONDENT - YEAR\n",
    "    D2002        >>> D02     GENDER\n",
    "    D2003        >>> D03     EDUCATION\n",
    "    D2004        >>> D04     MARITAL STATUS\n",
    "    D2005        >>> D05     UNION MEMBERSHIP OF RESPONDENT\n",
    "    D2006        >>> D06     UNION MEMBERSHIP OF OTHERS IN HOUSEHOLD\n",
    "    D2007        >>> D07     BUSINESS OR EMPLOYERS' ASSOCIATION MEMBERSHIP\n",
    "    D2008        >>> D08     FARMERS' ASSOCIATION MEMBERSHIP\n",
    "    D2009        >>> D09     PROFESSIONAL ASSOCIATION MEMBERSHIP\n",
    "    D2010        >>> D10     CURRENT EMPLOYMENT STATUS\n",
    "    D2011        >>> D11     MAIN OCCUPATION\n",
    "    D2012        >>> D12     SOCIO ECONOMIC STATUS\n",
    "    D2013        >>> D13     EMPLOYMENT TYPE - PUBLIC OR PRIVATE\n",
    "    D2014        >>> D14     INDUSTRIAL SECTOR\n",
    "    D2015        >>> D15     SPOUSE: CURRENT EMPLOYMENT STATUS\n",
    "    D2016        >>> D16     SPOUSE: OCCUPATION\n",
    "    D2017        >>> D17     SPOUSE: SOCIO ECONOMIC STATUS\n",
    "    D2018        >>> D18     SPOUSE: EMPLOYMENT TYPE - PUBLIC OR PRIVATE\n",
    "    D2019        >>> D19     SPOUSE: INDUSTRIAL SECTOR\n",
    "    D2020        >>> D20     HOUSEHOLD INCOME\n",
    "    D2021        >>> D21a    NUMBER IN HOUSEHOLD IN TOTAL\n",
    "    D2022        >>> D21b    NUMBER OF CHILDREN IN HOUSEHOLD UNDER AGE 18\n",
    "    D2023        >>> D21c    NUMBER IN HOUSEHOLD UNDER AGE 6\n",
    "    D2024        >>> D22     RELIGIOUS SERVICES ATTENDANCE\n",
    "    D2025        >>> D23     RELIGIOSITY\n",
    "    D2026        >>> D24     RELIGIOUS DENOMINATION\n",
    "    D2027        >>> D25     LANGUAGE USUALLY SPOKEN AT HOME\n",
    "    D2028        >>> D26     REGION OF RESIDENCE\n",
    "    D2029        >>> D27     RACE\n",
    "    D2030        >>> D28     ETHNICITY\n",
    "    D2031        >>> D29     RURAL OR URBAN RESIDENCE\n",
    "    D2032        >>> D30     PRIMARY ELECTORAL DISTRICT\n",
    "    D2033        >>> D31     COUNTRY OF BIRTH\n",
    "    D2034        >>> D32     YEAR ARRIVED IN CURRENT COUNTRY"
   ]
  },
  {
   "cell_type": "code",
   "execution_count": 5,
   "metadata": {},
   "outputs": [],
   "source": [
    "def encode(x):\n",
    "    if x == True:\n",
    "        return 1\n",
    "    else:\n",
    "        return 0"
   ]
  },
  {
   "cell_type": "code",
   "execution_count": 6,
   "metadata": {},
   "outputs": [],
   "source": [
    "mydata[\"voted\"] = mydata.apply(lambda x: encode(x[\"voted\"]), axis = 1)"
   ]
  },
  {
   "cell_type": "code",
   "execution_count": 7,
   "metadata": {},
   "outputs": [],
   "source": [
    "X = mydata.drop(columns=['voted'])\n",
    "y = mydata['voted']"
   ]
  },
  {
   "cell_type": "code",
   "execution_count": 8,
   "metadata": {},
   "outputs": [],
   "source": [
    "Xtrain, Xtest, ytrain, ytest = train_test_split(X,  y, test_size=0.4, random_state=0)"
   ]
  },
  {
   "cell_type": "code",
   "execution_count": 9,
   "metadata": {},
   "outputs": [],
   "source": [
    "model = RandomForestClassifier(random_state=0)"
   ]
  },
  {
   "cell_type": "code",
   "execution_count": 10,
   "metadata": {},
   "outputs": [
    {
     "data": {
      "text/plain": [
       "GridSearchCV(cv=5, error_score='raise-deprecating',\n",
       "             estimator=RandomForestClassifier(bootstrap=True, class_weight=None,\n",
       "                                              criterion='gini', max_depth=None,\n",
       "                                              max_features='auto',\n",
       "                                              max_leaf_nodes=None,\n",
       "                                              min_impurity_decrease=0.0,\n",
       "                                              min_impurity_split=None,\n",
       "                                              min_samples_leaf=1,\n",
       "                                              min_samples_split=2,\n",
       "                                              min_weight_fraction_leaf=0.0,\n",
       "                                              n_estimators='warn', n_jobs=None,\n",
       "                                              oob_score=False, random_state=0,\n",
       "                                              verbose=0, warm_start=False),\n",
       "             iid='warn', n_jobs=None,\n",
       "             param_grid={'criterion': ['gini', 'entropy'],\n",
       "                         'max_depth': [4, 5, 6, 7, 8],\n",
       "                         'max_features': ['auto', 'sqrt', 'log2'],\n",
       "                         'n_estimators': [200, 500]},\n",
       "             pre_dispatch='2*n_jobs', refit=True, return_train_score=False,\n",
       "             scoring=None, verbose=0)"
      ]
     },
     "execution_count": 10,
     "metadata": {},
     "output_type": "execute_result"
    }
   ],
   "source": [
    "grid = { \n",
    "    'n_estimators': [200, 500],\n",
    "    'max_features': ['auto', 'sqrt', 'log2'],\n",
    "    'max_depth' : [4,5,6,7,8],\n",
    "    'criterion' :['gini', 'entropy']\n",
    "}\n",
    "CV_RF = GridSearchCV(estimator=model, param_grid=grid, cv= 5)\n",
    "CV_RF.fit(Xtrain, ytrain)\n"
   ]
  },
  {
   "cell_type": "code",
   "execution_count": 11,
   "metadata": {},
   "outputs": [
    {
     "name": "stdout",
     "output_type": "stream",
     "text": [
      "0.8583668005354752\n",
      "{'criterion': 'entropy', 'max_depth': 8, 'max_features': 'auto', 'n_estimators': 500}\n"
     ]
    }
   ],
   "source": [
    "print(CV_RF.best_score_)\n",
    "\n",
    "print(CV_RF.best_params_)\n"
   ]
  },
  {
   "cell_type": "code",
   "execution_count": 12,
   "metadata": {},
   "outputs": [
    {
     "data": {
      "text/plain": [
       "RandomForestClassifier(bootstrap=True, class_weight=None, criterion='entropy',\n",
       "                       max_depth=8, max_features='auto', max_leaf_nodes=None,\n",
       "                       min_impurity_decrease=0.0, min_impurity_split=None,\n",
       "                       min_samples_leaf=1, min_samples_split=2,\n",
       "                       min_weight_fraction_leaf=0.0, n_estimators=500,\n",
       "                       n_jobs=None, oob_score=False, random_state=0, verbose=0,\n",
       "                       warm_start=False)"
      ]
     },
     "execution_count": 12,
     "metadata": {},
     "output_type": "execute_result"
    }
   ],
   "source": [
    "model2 = CV_RF.best_estimator_\n",
    "model2.fit(Xtrain, ytrain)"
   ]
  },
  {
   "cell_type": "code",
   "execution_count": 13,
   "metadata": {},
   "outputs": [
    {
     "name": "stdout",
     "output_type": "stream",
     "text": [
      "Accuracy for Random Forest:  0.8652880947600884\n"
     ]
    }
   ],
   "source": [
    "pred=model2.predict(Xtest)\n",
    "print(\"Accuracy for Random Forest: \",accuracy_score(ytest,pred))"
   ]
  },
  {
   "cell_type": "code",
   "execution_count": 15,
   "metadata": {},
   "outputs": [
    {
     "name": "stdout",
     "output_type": "stream",
     "text": [
      "              precision    recall  f1-score   support\n",
      "\n",
      "           0       0.29      0.79      0.43       317\n",
      "           1       0.98      0.87      0.92      4664\n",
      "\n",
      "    accuracy                           0.87      4981\n",
      "   macro avg       0.64      0.83      0.68      4981\n",
      "weighted avg       0.94      0.87      0.89      4981\n",
      "\n"
     ]
    }
   ],
   "source": [
    "\n",
    "print(metrics.classification_report(pred, ytest))"
   ]
  },
  {
   "cell_type": "code",
   "execution_count": 17,
   "metadata": {},
   "outputs": [
    {
     "data": {
      "image/png": "[encoded data removed]",
      "text/plain": [
       "<Figure size 576x576 with 1 Axes>"
      ]
     },
     "metadata": {
      "needs_background": "light"
     },
     "output_type": "display_data"
    }
   ],
   "source": [
    "#confusion matrix\n",
    "\n",
    "plt.figure(figsize=(8, 8))\n",
    "mat = confusion_matrix(ytest, pred)\n",
    "sns.heatmap(mat.T, square=True, annot=True, fmt='d',cbar=False)\n",
    "plt.xlabel('true label')\n",
    "plt.ylabel('predicted label');"
   ]
  },
  {
   "cell_type": "code",
   "execution_count": 50,
   "metadata": {},
   "outputs": [
    {
     "name": "stdout",
     "output_type": "stream",
     "text": [
      "for the train datasets: 0.8568942436412316\n",
      "for the test datasets: 0.8652880947600884\n"
     ]
    }
   ],
   "source": [
    "#Model validation via cross-validation\n",
    "ytest_model = model2.fit(Xtrain, ytrain).predict(Xtest)\n",
    "ytrain_model = model2.fit(Xtest, ytest).predict(Xtrain)\n",
    "print(\"for the train datasets:\",accuracy_score(ytrain, ytrain_model))\n",
    "print(\"for the test datasets:\",accuracy_score(ytest, ytest_model))"
   ]
  },
  {
   "cell_type": "code",
   "execution_count": 34,
   "metadata": {},
   "outputs": [],
   "source": [
    "model3 = PCA(n_components=10) # 2. Instantiate the model with hyperparameters\n",
    "model3.fit(X) # 3. Fit to data. Notice y is not specified!\n",
    "X_10 = model3.transform(X) # 4. Transform the data to two dimensions"
   ]
  },
  {
   "cell_type": "code",
   "execution_count": 35,
   "metadata": {},
   "outputs": [],
   "source": [
    "model4 = PCA(n_components=20) # 2. Instantiate the model with hyperparameters\n",
    "model4.fit(X) # 3. Fit to data. Notice y is not specified!\n",
    "X_20 = model4.transform(X) # 4. Transform the data to two dimensions"
   ]
  },
  {
   "cell_type": "code",
   "execution_count": 36,
   "metadata": {},
   "outputs": [],
   "source": [
    "Xtrain_10, Xtest_10, ytrain_10, ytest_10 = train_test_split(X_10,  y, test_size=0.4, random_state=0)\n",
    "Xtrain_20, Xtest_20, ytrain_20, ytest_20 = train_test_split(X_20,  y, test_size=0.4, random_state=0)"
   ]
  },
  {
   "cell_type": "code",
   "execution_count": 37,
   "metadata": {},
   "outputs": [
    {
     "data": {
      "text/plain": [
       "GridSearchCV(cv=5, error_score='raise-deprecating',\n",
       "             estimator=RandomForestClassifier(bootstrap=True, class_weight=None,\n",
       "                                              criterion='gini', max_depth=None,\n",
       "                                              max_features='auto',\n",
       "                                              max_leaf_nodes=None,\n",
       "                                              min_impurity_decrease=0.0,\n",
       "                                              min_impurity_split=None,\n",
       "                                              min_samples_leaf=1,\n",
       "                                              min_samples_split=2,\n",
       "                                              min_weight_fraction_leaf=0.0,\n",
       "                                              n_estimators='warn', n_jobs=None,\n",
       "                                              oob_score=False,\n",
       "                                              random_state=None, verbose=0,\n",
       "                                              warm_start=False),\n",
       "             iid='warn', n_jobs=None,\n",
       "             param_grid={'criterion': ['gini', 'entropy'],\n",
       "                         'max_depth': [4, 5, 6, 7, 8],\n",
       "                         'max_features': ['auto', 'sqrt', 'log2'],\n",
       "                         'n_estimators': [200, 500]},\n",
       "             pre_dispatch='2*n_jobs', refit=True, return_train_score=False,\n",
       "             scoring=None, verbose=0)"
      ]
     },
     "execution_count": 37,
     "metadata": {},
     "output_type": "execute_result"
    }
   ],
   "source": [
    "grid_10 = { \n",
    "    'n_estimators': [200, 500],\n",
    "    'max_features': ['auto', 'sqrt', 'log2'],\n",
    "    'max_depth' : [4,5,6,7,8],\n",
    "    'criterion' :['gini', 'entropy']\n",
    "}\n",
    "CV_RF_10 = GridSearchCV(estimator=RandomForestClassifier(), param_grid=grid_10, cv= 5)\n",
    "CV_RF_10.fit(Xtrain_10, ytrain_10)"
   ]
  },
  {
   "cell_type": "code",
   "execution_count": 44,
   "metadata": {},
   "outputs": [
    {
     "name": "stdout",
     "output_type": "stream",
     "text": [
      "0.8583668005354752\n",
      "{'criterion': 'entropy', 'max_depth': 8, 'max_features': 'auto', 'n_estimators': 500}\n",
      "Accuracy for Random Forest:  0.8646858060630396\n"
     ]
    }
   ],
   "source": [
    "print(CV_RF.best_score_)\n",
    "\n",
    "print(CV_RF.best_params_)\n",
    "model3 = CV_RF_10.best_estimator_\n",
    "model3.fit(Xtrain_10, ytrain_10)\n",
    "pred_10=model3.predict(Xtest_10)\n",
    "print(\"Accuracy for Random Forest: \",accuracy_score(ytest,pred))"
   ]
  },
  {
   "cell_type": "code",
   "execution_count": 39,
   "metadata": {},
   "outputs": [
    {
     "data": {
      "text/plain": [
       "GridSearchCV(cv=5, error_score='raise-deprecating',\n",
       "             estimator=RandomForestClassifier(bootstrap=True, class_weight=None,\n",
       "                                              criterion='gini', max_depth=None,\n",
       "                                              max_features='auto',\n",
       "                                              max_leaf_nodes=None,\n",
       "                                              min_impurity_decrease=0.0,\n",
       "                                              min_impurity_split=None,\n",
       "                                              min_samples_leaf=1,\n",
       "                                              min_samples_split=2,\n",
       "                                              min_weight_fraction_leaf=0.0,\n",
       "                                              n_estimators='warn', n_jobs=None,\n",
       "                                              oob_score=False,\n",
       "                                              random_state=None, verbose=0,\n",
       "                                              warm_start=False),\n",
       "             iid='warn', n_jobs=None,\n",
       "             param_grid={'criterion': ['gini', 'entropy'],\n",
       "                         'max_depth': [4, 5, 6, 7, 8],\n",
       "                         'max_features': ['auto', 'sqrt', 'log2'],\n",
       "                         'n_estimators': [200, 500]},\n",
       "             pre_dispatch='2*n_jobs', refit=True, return_train_score=False,\n",
       "             scoring=None, verbose=0)"
      ]
     },
     "execution_count": 39,
     "metadata": {},
     "output_type": "execute_result"
    }
   ],
   "source": [
    "grid_20 = { \n",
    "    'n_estimators': [200, 500],\n",
    "    'max_features': ['auto', 'sqrt', 'log2'],\n",
    "    'max_depth' : [4,5,6,7,8],\n",
    "    'criterion' :['gini', 'entropy']\n",
    "}\n",
    "CV_RF_20 = GridSearchCV(estimator=RandomForestClassifier(), param_grid=grid_20, cv= 5)\n",
    "CV_RF_20.fit(Xtrain_20, ytrain_20)"
   ]
  },
  {
   "cell_type": "code",
   "execution_count": 40,
   "metadata": {},
   "outputs": [
    {
     "name": "stdout",
     "output_type": "stream",
     "text": [
      "0.8511378848728246\n",
      "{'criterion': 'gini', 'max_depth': 8, 'max_features': 'sqrt', 'n_estimators': 200}\n",
      "Accuracy for Random Forest:  0.8586629190925517\n"
     ]
    }
   ],
   "source": [
    "print(CV_RF_20.best_score_)\n",
    "\n",
    "print(CV_RF_20.best_params_)\n",
    "model4 = CV_RF_20.best_estimator_\n",
    "model4.fit(Xtrain_20, ytrain_20)\n",
    "pred_20=model4.predict(Xtest_20)\n",
    "print(\"Accuracy for Random Forest: \",accuracy_score(ytest_20,pred_20))"
   ]
  },
  {
   "cell_type": "code",
   "execution_count": 45,
   "metadata": {},
   "outputs": [
    {
     "data": {
      "image/png": "[encoded data removed]",
      "text/plain": [
       "<Figure size 576x576 with 1 Axes>"
      ]
     },
     "metadata": {
      "needs_background": "light"
     },
     "output_type": "display_data"
    }
   ],
   "source": [
    "#Since we get better results at PCA Test for n_components=10 , we apply the confusion matrix and cross validation for these datasets.\n",
    "#confusion matrix\n",
    "plt.figure(figsize=(8, 8))\n",
    "mat = confusion_matrix(ytest_10, pred_10)\n",
    "sns.heatmap(mat.T, square=True, annot=True, fmt='d',cbar=False)\n",
    "plt.xlabel('true label')\n",
    "plt.ylabel('predicted label');"
   ]
  },
  {
   "cell_type": "code",
   "execution_count": 49,
   "metadata": {},
   "outputs": [
    {
     "name": "stdout",
     "output_type": "stream",
     "text": [
      "for the train datasets: 0.8306559571619813\n",
      "for the test datasets: 0.8413973097771532\n"
     ]
    }
   ],
   "source": [
    "#Model validation via cross-validation\n",
    "ytest_model3 = model3.fit(Xtrain_10, ytrain_10).predict(Xtest_10)\n",
    "ytrain_model3 = model3.fit(Xtest_10, ytest_10).predict(Xtrain_10)\n",
    "print(\"for the train datasets:\",accuracy_score(ytrain_10, ytrain_model3)) \n",
    "print(\"for the test datasets:\",accuracy_score(ytest_10, ytest_model3))"
   ]
  }
 ],
 "metadata": {
  "kernelspec": {
   "display_name": "Python 3",
   "language": "python",
   "name": "python3"
  },
  "language_info": {
   "codemirror_mode": {
    "name": "ipython",
    "version": 3
   },
   "file_extension": ".py",
   "mimetype": "text/x-python",
   "name": "python",
   "nbconvert_exporter": "python",
   "pygments_lexer": "ipython3",
   "version": "3.7.4"
  }
 },
 "nbformat": 4,
 "nbformat_minor": 2
}
