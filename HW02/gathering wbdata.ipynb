{
 "cells": [
  {
   "cell_type": "code",
   "execution_count": 9,
   "metadata": {},
   "outputs": [],
   "source": [
    "import wbdata \n",
    "import scipy.stats as stats\n",
    "import matplotlib\n",
    "import matplotlib.pyplot as plt\n",
    "import numpy as np\n",
    "import pandas as pd\n",
    "import datetime\n",
    "from sklearn import datasets, linear_model\n",
    "from sklearn.model_selection import train_test_split\n",
    "from sklearn.metrics import accuracy_score\n",
    "import Linear_Regression\n",
    "import statsmodels.api as sm"
   ]
  },
  {
   "cell_type": "code",
   "execution_count": 2,
   "metadata": {},
   "outputs": [],
   "source": [
    "indicators = {\"NY.GDP.MKTP.CD\": \"GDP\",\n",
    "              \"NE.CON.PRVT.ZS\": \"Households and NPISHs Final consumption expenditure (% of GDP)\",\n",
    "              \"BX.KLT.DINV.WD.GD.ZS\": \"Foreign direct investment, net inflows (% of GDP)\",\n",
    "              \"NE.EXP.GNFS.ZS\": \"Exports of goods and services (% of GDP)\",\n",
    "              \"NE.IMP.GNFS.ZS\": \"Imports of goods and services (% of GDP)\" }\n",
    "\n",
    "data_dates = (datetime.datetime(1900, 1, 1), datetime.datetime(2020, 1, 1))\n",
    "\n",
    "#Create dataframe\n",
    "data = wbdata.get_dataframe(indicators, \n",
    "                            country=('TUR'), \n",
    "                            data_date=data_dates, \n",
    "                            convert_date=False, keep_levels=True)"
   ]
  },
  {
   "cell_type": "code",
   "execution_count": 100,
   "metadata": {},
   "outputs": [],
   "source": [
    "df = data.to_csv('wbdata.csv')\n",
    "Y = data[data.columns[[1]]]\n",
    "X = data[data.columns[[2,3,4]]]"
   ]
  },
  {
   "cell_type": "code",
   "execution_count": 101,
   "metadata": {},
   "outputs": [
    {
     "data": {
      "text/html": [
       "<div>\n",
       "<style scoped>\n",
       "    .dataframe tbody tr th:only-of-type {\n",
       "        vertical-align: middle;\n",
       "    }\n",
       "\n",
       "    .dataframe tbody tr th {\n",
       "        vertical-align: top;\n",
       "    }\n",
       "\n",
       "    .dataframe thead th {\n",
       "        text-align: right;\n",
       "    }\n",
       "</style>\n",
       "<table border=\"1\" class=\"dataframe\">\n",
       "  <thead>\n",
       "    <tr style=\"text-align: right;\">\n",
       "      <th></th>\n",
       "      <th></th>\n",
       "      <th>Households and NPISHs Final consumption expenditure (% of GDP)</th>\n",
       "    </tr>\n",
       "    <tr>\n",
       "      <th>country</th>\n",
       "      <th>date</th>\n",
       "      <th></th>\n",
       "    </tr>\n",
       "  </thead>\n",
       "  <tbody>\n",
       "    <tr>\n",
       "      <td rowspan=\"11\" valign=\"top\">Turkey</td>\n",
       "      <td>2020</td>\n",
       "      <td>56.746267</td>\n",
       "    </tr>\n",
       "    <tr>\n",
       "      <td>2019</td>\n",
       "      <td>56.873393</td>\n",
       "    </tr>\n",
       "    <tr>\n",
       "      <td>2018</td>\n",
       "      <td>56.168663</td>\n",
       "    </tr>\n",
       "    <tr>\n",
       "      <td>2017</td>\n",
       "      <td>58.608851</td>\n",
       "    </tr>\n",
       "    <tr>\n",
       "      <td>2016</td>\n",
       "      <td>59.408351</td>\n",
       "    </tr>\n",
       "    <tr>\n",
       "      <td>...</td>\n",
       "      <td>...</td>\n",
       "    </tr>\n",
       "    <tr>\n",
       "      <td>1964</td>\n",
       "      <td>53.578529</td>\n",
       "    </tr>\n",
       "    <tr>\n",
       "      <td>1963</td>\n",
       "      <td>54.935622</td>\n",
       "    </tr>\n",
       "    <tr>\n",
       "      <td>1962</td>\n",
       "      <td>55.417186</td>\n",
       "    </tr>\n",
       "    <tr>\n",
       "      <td>1961</td>\n",
       "      <td>56.328234</td>\n",
       "    </tr>\n",
       "    <tr>\n",
       "      <td>1960</td>\n",
       "      <td>56.387665</td>\n",
       "    </tr>\n",
       "  </tbody>\n",
       "</table>\n",
       "<p>61 rows × 1 columns</p>\n",
       "</div>"
      ],
      "text/plain": [
       "              Households and NPISHs Final consumption expenditure (% of GDP)\n",
       "country date                                                                \n",
       "Turkey  2020                                          56.746267             \n",
       "        2019                                          56.873393             \n",
       "        2018                                          56.168663             \n",
       "        2017                                          58.608851             \n",
       "        2016                                          59.408351             \n",
       "...                                                         ...             \n",
       "        1964                                          53.578529             \n",
       "        1963                                          54.935622             \n",
       "        1962                                          55.417186             \n",
       "        1961                                          56.328234             \n",
       "        1960                                          56.387665             \n",
       "\n",
       "[61 rows x 1 columns]"
      ]
     },
     "execution_count": 101,
     "metadata": {},
     "output_type": "execute_result"
    }
   ],
   "source": [
    "Y"
   ]
  },
  {
   "cell_type": "code",
   "execution_count": 109,
   "metadata": {},
   "outputs": [],
   "source": [
    "X = pd.DataFrame(X)\n",
    "Y = pd.DataFrame(Y)"
   ]
  },
  {
   "cell_type": "code",
   "execution_count": 113,
   "metadata": {},
   "outputs": [],
   "source": [
    "merge_col = [X,Y]\n",
    "merge_col\n",
    "result = pd.concat(merge_col,axis=1, keys=[\"x_values\",\"targets\"])\n",
    "result = result.dropna()\n",
    "X = result['x_values']\n",
    "Y = result['targets']"
   ]
  },
  {
   "cell_type": "code",
   "execution_count": 114,
   "metadata": {},
   "outputs": [
    {
     "data": {
      "text/html": [
       "<div>\n",
       "<style scoped>\n",
       "    .dataframe tbody tr th:only-of-type {\n",
       "        vertical-align: middle;\n",
       "    }\n",
       "\n",
       "    .dataframe tbody tr th {\n",
       "        vertical-align: top;\n",
       "    }\n",
       "\n",
       "    .dataframe thead th {\n",
       "        text-align: right;\n",
       "    }\n",
       "</style>\n",
       "<table border=\"1\" class=\"dataframe\">\n",
       "  <thead>\n",
       "    <tr style=\"text-align: right;\">\n",
       "      <th></th>\n",
       "      <th>0</th>\n",
       "      <th>1</th>\n",
       "      <th>2</th>\n",
       "    </tr>\n",
       "  </thead>\n",
       "  <tbody>\n",
       "    <tr>\n",
       "      <td>0</td>\n",
       "      <td>1.00</td>\n",
       "      <td>0.62</td>\n",
       "      <td>0.65</td>\n",
       "    </tr>\n",
       "    <tr>\n",
       "      <td>1</td>\n",
       "      <td>0.62</td>\n",
       "      <td>1.00</td>\n",
       "      <td>0.95</td>\n",
       "    </tr>\n",
       "    <tr>\n",
       "      <td>2</td>\n",
       "      <td>0.65</td>\n",
       "      <td>0.95</td>\n",
       "      <td>1.00</td>\n",
       "    </tr>\n",
       "  </tbody>\n",
       "</table>\n",
       "</div>"
      ],
      "text/plain": [
       "      0     1     2\n",
       "0  1.00  0.62  0.65\n",
       "1  0.62  1.00  0.95\n",
       "2  0.65  0.95  1.00"
      ]
     },
     "execution_count": 114,
     "metadata": {},
     "output_type": "execute_result"
    }
   ],
   "source": [
    "cormat = X.corr()\n",
    "round(cormat,2)"
   ]
  },
  {
   "cell_type": "code",
   "execution_count": 122,
   "metadata": {},
   "outputs": [],
   "source": [
    "X = X[[0,1]]#since correlation coef between 1 and 2(import and export good and services) : 0.95 ,thats why I eliminated import one.  "
   ]
  },
  {
   "cell_type": "code",
   "execution_count": 116,
   "metadata": {},
   "outputs": [
    {
     "name": "stdout",
     "output_type": "stream",
     "text": [
      "Y shape(50, 1)\n",
      "n:50 and k:2\n",
      "intercept shape(50, 1)\n",
      "X shape(50, 3)\n",
      "X_ shape(3, 3)\n",
      "β1 shape(3, 50)\n",
      "β shape(3, 1)\n",
      "y_hat shape(50, 1)\n",
      "e shape(50, 1)\n",
      "σ_square shape(1, 1)\n",
      "standart_error shape(3, 1)\n",
      "t-critical value:\n",
      "2.0128955952945886\n"
     ]
    }
   ],
   "source": [
    "beta, standard_error, confindence_interval, y_prediction = Linear_Regression.LinearRegression(X,Y)"
   ]
  },
  {
   "cell_type": "code",
   "execution_count": 149,
   "metadata": {},
   "outputs": [
    {
     "data": {
      "text/html": [
       "<div>\n",
       "<style scoped>\n",
       "    .dataframe tbody tr th:only-of-type {\n",
       "        vertical-align: middle;\n",
       "    }\n",
       "\n",
       "    .dataframe tbody tr th {\n",
       "        vertical-align: top;\n",
       "    }\n",
       "\n",
       "    .dataframe thead tr th {\n",
       "        text-align: left;\n",
       "    }\n",
       "</style>\n",
       "<table border=\"1\" class=\"dataframe\">\n",
       "  <thead>\n",
       "    <tr>\n",
       "      <th></th>\n",
       "      <th>coefficients</th>\n",
       "      <th>standard error</th>\n",
       "      <th>lower bound</th>\n",
       "      <th>upper bound</th>\n",
       "    </tr>\n",
       "    <tr>\n",
       "      <th></th>\n",
       "      <th>0</th>\n",
       "      <th>0</th>\n",
       "      <th>0</th>\n",
       "      <th>0</th>\n",
       "    </tr>\n",
       "  </thead>\n",
       "  <tbody>\n",
       "    <tr>\n",
       "      <td>0</td>\n",
       "      <td>58.295464</td>\n",
       "      <td>1.451748</td>\n",
       "      <td>2.979502e+11</td>\n",
       "      <td>1.467416e+12</td>\n",
       "    </tr>\n",
       "    <tr>\n",
       "      <td>1</td>\n",
       "      <td>-1.840258</td>\n",
       "      <td>0.910352</td>\n",
       "      <td>-3.057217e+10</td>\n",
       "      <td>-1.039636e+10</td>\n",
       "    </tr>\n",
       "    <tr>\n",
       "      <td>2</td>\n",
       "      <td>0.307577</td>\n",
       "      <td>0.096352</td>\n",
       "      <td>5.333258e+10</td>\n",
       "      <td>1.888286e+11</td>\n",
       "    </tr>\n",
       "  </tbody>\n",
       "</table>\n",
       "</div>"
      ],
      "text/plain": [
       "  coefficients standard error   lower bound   upper bound\n",
       "             0              0             0             0\n",
       "0    58.295464       1.451748  2.979502e+11  1.467416e+12\n",
       "1    -1.840258       0.910352 -3.057217e+10 -1.039636e+10\n",
       "2     0.307577       0.096352  5.333258e+10  1.888286e+11"
      ]
     },
     "execution_count": 149,
     "metadata": {},
     "output_type": "execute_result"
    }
   ],
   "source": [
    "results_beta = pd.DataFrame(beta)\n",
    "results_std = pd.DataFrame(standard_error)\n",
    "results_lower = pd.DataFrame(confidence_interval[0])\n",
    "results_upper = pd.DataFrame(confidence_interval[1])\n",
    "results_regression = pd.concat([results_beta,results_std,results_lower,results_upper],axis=1,keys = ['coefficients','standard error','lower bound','upper bound'])\n",
    "results_regression.dropna()"
   ]
  },
  {
   "cell_type": "code",
   "execution_count": 121,
   "metadata": {},
   "outputs": [
    {
     "data": {
      "image/png": "[encoded data removed]",
      "text/plain": [
       "<Figure size 432x288 with 1 Axes>"
      ]
     },
     "metadata": {},
     "output_type": "display_data"
    }
   ],
   "source": [
    "import seaborn as sns\n",
    "\n",
    "fig = sns.regplot(x=data.columns[2], y=\"GDP\", data=data)\n",
    "sns.set_style(\"whitegrid\")\n",
    "plt.title(\"Regression Results\")\n",
    "plt.show()"
   ]
  },
  {
   "cell_type": "code",
   "execution_count": 120,
   "metadata": {},
   "outputs": [
    {
     "data": {
      "image/png": "[encoded data removed]",
      "text/plain": [
       "<Figure size 432x288 with 1 Axes>"
      ]
     },
     "metadata": {},
     "output_type": "display_data"
    }
   ],
   "source": [
    "fig = sns.regplot(x=data.columns[3], y=\"GDP\", data=data)\n",
    "sns.set_style(\"whitegrid\")\n",
    "plt.title(\"Regression Results\")\n",
    "plt.show()"
   ]
  },
  {
   "cell_type": "code",
   "execution_count": 126,
   "metadata": {},
   "outputs": [
    {
     "name": "stdout",
     "output_type": "stream",
     "text": [
      "                            OLS Regression Results                            \n",
      "==============================================================================\n",
      "Dep. Variable:                      0   R-squared:                       0.178\n",
      "Model:                            OLS   Adj. R-squared:                  0.143\n",
      "Method:                 Least Squares   F-statistic:                     5.097\n",
      "Date:                Sun, 12 Dec 2021   Prob (F-statistic):            0.00992\n",
      "Time:                        12:29:45   Log-Likelihood:                -142.04\n",
      "No. Observations:                  50   AIC:                             290.1\n",
      "Df Residuals:                      47   BIC:                             295.8\n",
      "Df Model:                           2                                         \n",
      "Covariance Type:            nonrobust                                         \n",
      "==============================================================================\n",
      "                 coef    std err          t      P>|t|      [0.025      0.975]\n",
      "------------------------------------------------------------------------------\n",
      "const         58.2955      1.452     40.155      0.000      55.375      61.216\n",
      "0             -1.8403      0.910     -2.021      0.049      -3.672      -0.009\n",
      "1              0.3076      0.096      3.192      0.003       0.114       0.501\n",
      "==============================================================================\n",
      "Omnibus:                        0.059   Durbin-Watson:                   0.531\n",
      "Prob(Omnibus):                  0.971   Jarque-Bera (JB):                0.023\n",
      "Skew:                          -0.003   Prob(JB):                        0.989\n",
      "Kurtosis:                       2.896   Cond. No.                         45.9\n",
      "==============================================================================\n",
      "\n",
      "Warnings:\n",
      "[1] Standard Errors assume that the covariance matrix of the errors is correctly specified.\n",
      "[[58.29546402]\n",
      " [-1.84025792]\n",
      " [ 0.30757744]] (array([[ 2.97950233e+11],\n",
      "       [-3.05721663e+10],\n",
      "       [ 5.33325828e+10],\n",
      "       [-2.13320200e+10],\n",
      "       [ 1.65369580e+10]]), array([[ 1.46741628e+12],\n",
      "       [-1.03963594e+10],\n",
      "       [ 1.88828624e+11],\n",
      "       [ 1.09294294e+10],\n",
      "       [ 5.42239888e+10]]))\n"
     ]
    }
   ],
   "source": [
    "X = sm.add_constant(X)\n",
    "OLS_benchmark = sm.OLS(Y,X).fit()\n",
    "print(OLS_benchmark.summary())"
   ]
  }
 ],
 "metadata": {
  "kernelspec": {
   "display_name": "Python 3",
   "language": "python",
   "name": "python3"
  },
  "language_info": {
   "codemirror_mode": {
    "name": "ipython",
    "version": 3
   },
   "file_extension": ".py",
   "mimetype": "text/x-python",
   "name": "python",
   "nbconvert_exporter": "python",
   "pygments_lexer": "ipython3",
   "version": "3.7.4"
  }
 },
 "nbformat": 4,
 "nbformat_minor": 2
}
